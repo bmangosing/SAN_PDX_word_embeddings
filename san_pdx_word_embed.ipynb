{
  "cells": [
    {
      "cell_type": "code",
      "execution_count": null,
      "metadata": {},
      "outputs": [],
      "source": [
        "import praw\n",
        "import asyncio\n",
        "import asyncpraw\n",
        "import pandas as pd\n",
        "from dotenv import load_dotenv\n",
        "import os\n"
      ]
    },
    {
      "cell_type": "code",
      "execution_count": 9,
      "metadata": {
        "id": "8MHr9yIfDS90"
      },
      "outputs": [],
      "source": [
        "#######################\n",
        "#ENVIRONMENT VARIABLES#\n",
        "#######################\n",
        "\n",
        "load_dotenv(\"config.env\")\n",
        "\n",
        "client_id = os.getenv(\"REDDIT_CLIENT_ID\")\n",
        "client_secret = os.getenv(\"REDDIT_CLIENT_SECRET\")\n",
        "user_agent = os.getenv(\"REDDIT_USER_AGENT\")"
      ]
    },
    {
      "cell_type": "code",
      "execution_count": 10,
      "metadata": {},
      "outputs": [],
      "source": [
        "###########################\n",
        "#REDDIT API AUTHENTICATION#\n",
        "###########################\n",
        "\n",
        "reddit = asyncpraw.Reddit(\n",
        "    client_id=client_id,\n",
        "    client_secret=client_secret,\n",
        "    user_agent=user_agent\n",
        ")"
      ]
    },
    {
      "cell_type": "code",
      "execution_count": 11,
      "metadata": {
        "colab": {
          "base_uri": "https://localhost:8080/"
        },
        "id": "TuNHnwfwCr4T",
        "outputId": "d420ea77-246c-42d4-b44f-6d301d636b51"
      },
      "outputs": [],
      "source": [
        "###########\n",
        "#FUNCTIONS#\n",
        "###########\n",
        "\n",
        "async def fetch_posts(subreddit_name, limit=500):\n",
        "    \"\"\"Fetch posts asynchronously.\"\"\"\n",
        "    print(f\"Fetching posts from r/{subreddit_name}...\")\n",
        "    subreddit = await reddit.subreddit(subreddit_name)\n",
        "    posts = []\n",
        "    counter = 0\n",
        "\n",
        "    async for post in subreddit.new(limit=None):  # Fetch new posts\n",
        "        if counter >= limit:\n",
        "            break\n",
        "        posts.append({\n",
        "            \"id\": post.id,\n",
        "            \"title\": post.title,\n",
        "            \"score\": post.score,\n",
        "            \"created_utc\": post.created_utc,\n",
        "            \"selftext\": post.selftext,\n",
        "            \"num_comments\": post.num_comments,\n",
        "            \"subreddit\": subreddit_name\n",
        "        })\n",
        "        counter += 1\n",
        "\n",
        "    print(f\"Fetched {len(posts)} posts from r/{subreddit_name}.\")\n",
        "    return posts\n",
        "\n",
        "async def fetch_comments(post_ids, limit=500):\n",
        "    \"\"\"Fetch comments asynchronously.\"\"\"\n",
        "    print(\"Fetching comments...\")\n",
        "    comments = []\n",
        "    counter = 0\n",
        "\n",
        "    for post_id in post_ids:\n",
        "        submission = await reddit.submission(id=post_id)\n",
        "        await submission.comments.replace_more(limit=0)  # Avoid \"load more\" comments\n",
        "        for comment in submission.comments.list():\n",
        "            if counter >= limit:\n",
        "                break\n",
        "            comments.append({\n",
        "                \"post_id\": post_id,\n",
        "                \"comment_id\": comment.id,\n",
        "                \"body\": comment.body,\n",
        "                \"score\": comment.score,\n",
        "                \"created_utc\": comment.created_utc,\n",
        "            })\n",
        "            counter += 1\n",
        "\n",
        "    print(f\"Fetched {len(comments)} comments.\")\n",
        "    return comments\n",
        "\n",
        "async def main():\n",
        "    all_posts = []\n",
        "    all_comments = []\n",
        "\n",
        "    for subreddit in subreddits:\n",
        "        # Fetch posts\n",
        "        posts = await fetch_posts(subreddit, limit=post_limit)\n",
        "        all_posts.extend(posts)\n",
        "\n",
        "        # Fetch comments for posts\n",
        "        post_ids = [post[\"id\"] for post in posts]\n",
        "        comments = await fetch_comments(post_ids, limit=comments_limit)\n",
        "        all_comments.extend(comments)\n",
        "\n",
        "    # Save to CSV\n",
        "    print(\"Saving data to CSV...\")\n",
        "    posts_df = pd.DataFrame(all_posts)\n",
        "    comments_df = pd.DataFrame(all_comments)\n",
        "\n",
        "    posts_df.to_csv(\"reddit_posts_async.csv\", index=False)\n",
        "    comments_df.to_csv(\"reddit_comments_async.csv\", index=False)"
      ]
    },
    {
      "cell_type": "code",
      "execution_count": 12,
      "metadata": {},
      "outputs": [
        {
          "name": "stdout",
          "output_type": "stream",
          "text": [
            "Fetching posts from r/Portland...\n",
            "Fetched 500 posts from r/Portland.\n",
            "Fetching comments...\n",
            "Fetched 1000 comments.\n",
            "Fetching posts from r/SanDiego...\n",
            "Fetched 500 posts from r/SanDiego.\n",
            "Fetching comments...\n",
            "Fetched 1000 comments.\n",
            "Saving data to CSV...\n"
          ]
        }
      ],
      "source": [
        "# Parameters\n",
        "subreddits = [\"Portland\", \"SanDiego\"]\n",
        "post_limit = 500\n",
        "comments_limit = 1000\n",
        "output_file = \"reddit_data.csv\"\n",
        "\n",
        "# Run the async main loop\n",
        "await main()"
      ]
    }
  ],
  "metadata": {
    "colab": {
      "provenance": []
    },
    "kernelspec": {
      "display_name": "Python 3",
      "name": "python3"
    },
    "language_info": {
      "codemirror_mode": {
        "name": "ipython",
        "version": 3
      },
      "file_extension": ".py",
      "mimetype": "text/x-python",
      "name": "python",
      "nbconvert_exporter": "python",
      "pygments_lexer": "ipython3",
      "version": "3.10.11"
    }
  },
  "nbformat": 4,
  "nbformat_minor": 0
}
