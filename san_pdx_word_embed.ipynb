{
  "cells": [
    {
      "cell_type": "code",
      "execution_count": 4,
      "metadata": {},
      "outputs": [],
      "source": [
        "import praw\n",
        "import asyncio\n",
        "import asyncpraw\n",
        "import pandas as pd\n",
        "from dotenv import load_dotenv\n",
        "import os"
      ]
    },
    {
      "cell_type": "code",
      "execution_count": null,
      "metadata": {
        "id": "8MHr9yIfDS90"
      },
      "outputs": [],
      "source": [
        "load_dotenv(r\"C:\\Users\\kurai\\OneDrive\\Desktop\\Programming Projects\\SAN-PDX Word Embeddings\\SAN_PDX_word_embeddings\\config.env\")\n",
        "\n",
        "client_id = os.getenv(\"REDDIT_CLIENT_ID\")\n",
        "client_secret = os.getenv(\"REDDIT_CLIENT_SECRET\")\n",
        "user_agent = os.getenv(\"REDDIT_USER_AGENT\")\n",
        "\n",
        "# Authenticate with Reddit\n",
        "reddit = praw.Reddit(\n",
        "    client_id=client_id,\n",
        "    client_secret=client_secret,\n",
        "    user_agent=user_agent\n",
        ")"
      ]
    },
    {
      "cell_type": "code",
      "execution_count": null,
      "metadata": {
        "colab": {
          "base_uri": "https://localhost:8080/"
        },
        "id": "TuNHnwfwCr4T",
        "outputId": "d420ea77-246c-42d4-b44f-6d301d636b51"
      },
      "outputs": [
        {
          "name": "stdout",
          "output_type": "stream",
          "text": [
            "Fetching posts from r/Portland...\n",
            "Fetched 500 posts from r/Portland.\n",
            "Fetching comments...\n",
            "Fetched 1000 comments.\n",
            "Fetching posts from r/SanDiego...\n",
            "Fetched 500 posts from r/SanDiego.\n",
            "Fetching comments...\n",
            "Fetched 1000 comments.\n",
            "Saving data to CSV...\n"
          ]
        }
      ],
      "source": [
        "# Reddit API Authentication\n",
        "reddit = asyncpraw.Reddit(\n",
        "    client_id=client_id,\n",
        "    client_secret=client_secret,\n",
        "    user_agent=user_agent\n",
        ")\n",
        "\n",
        "# Parameters\n",
        "subreddits = [\"Portland\", \"SanDiego\"]\n",
        "post_limit = 500\n",
        "comments_limit = 1000\n",
        "output_file = \"reddit_data.csv\"\n",
        "\n",
        "async def fetch_posts(subreddit_name, limit=500):\n",
        "    \"\"\"Fetch posts asynchronously.\"\"\"\n",
        "    print(f\"Fetching posts from r/{subreddit_name}...\")\n",
        "    subreddit = await reddit.subreddit(subreddit_name)\n",
        "    posts = []\n",
        "    counter = 0\n",
        "\n",
        "    async for post in subreddit.new(limit=None):  # Fetch new posts\n",
        "        if counter >= limit:\n",
        "            break\n",
        "        posts.append({\n",
        "            \"id\": post.id,\n",
        "            \"title\": post.title,\n",
        "            \"score\": post.score,\n",
        "            \"created_utc\": post.created_utc,\n",
        "            \"selftext\": post.selftext,\n",
        "            \"num_comments\": post.num_comments,\n",
        "            \"subreddit\": subreddit_name\n",
        "        })\n",
        "        counter += 1\n",
        "\n",
        "    print(f\"Fetched {len(posts)} posts from r/{subreddit_name}.\")\n",
        "    return posts\n",
        "\n",
        "async def fetch_comments(post_ids, limit=500):\n",
        "    \"\"\"Fetch comments asynchronously.\"\"\"\n",
        "    print(\"Fetching comments...\")\n",
        "    comments = []\n",
        "    counter = 0\n",
        "\n",
        "    for post_id in post_ids:\n",
        "        submission = await reddit.submission(id=post_id)\n",
        "        await submission.comments.replace_more(limit=0)  # Avoid \"load more\" comments\n",
        "        for comment in submission.comments.list():\n",
        "            if counter >= limit:\n",
        "                break\n",
        "            comments.append({\n",
        "                \"post_id\": post_id,\n",
        "                \"comment_id\": comment.id,\n",
        "                \"body\": comment.body,\n",
        "                \"score\": comment.score,\n",
        "                \"created_utc\": comment.created_utc,\n",
        "            })\n",
        "            counter += 1\n",
        "\n",
        "    print(f\"Fetched {len(comments)} comments.\")\n",
        "    return comments\n",
        "\n",
        "async def main():\n",
        "    all_posts = []\n",
        "    all_comments = []\n",
        "\n",
        "    for subreddit in subreddits:\n",
        "        # Fetch posts\n",
        "        posts = await fetch_posts(subreddit, limit=post_limit)\n",
        "        all_posts.extend(posts)\n",
        "\n",
        "        # Fetch comments for posts\n",
        "        post_ids = [post[\"id\"] for post in posts]\n",
        "        comments = await fetch_comments(post_ids, limit=comments_limit)\n",
        "        all_comments.extend(comments)\n",
        "\n",
        "    # Save to CSV\n",
        "    print(\"Saving data to CSV...\")\n",
        "    posts_df = pd.DataFrame(all_posts)\n",
        "    comments_df = pd.DataFrame(all_comments)\n",
        "\n",
        "    posts_df.to_csv(\"reddit_posts_async.csv\", index=False)\n",
        "    comments_df.to_csv(\"reddit_comments_async.csv\", index=False)\n",
        "\n",
        "# Run the async main loop\n",
        "await main()\n",
        "\n"
      ]
    },
    {
      "cell_type": "code",
      "execution_count": null,
      "metadata": {
        "colab": {
          "base_uri": "https://localhost:8080/"
        },
        "id": "F7oJF2dp-5lH",
        "outputId": "6fa0905e-6403-4095-c27d-f2a491bc1ece"
      },
      "outputs": [
        {
          "name": "stdout",
          "output_type": "stream",
          "text": [
            "   post_id comment_id                                               body  \\\n",
            "0  1npqy22    ng1h2re  did no one else see the post of the person who...   \n",
            "1  1npqy22    ng1g38e                      Op what’s the current status?   \n",
            "2  1npqy22    ng1gn9v  Oh sweet girl. I can help with transport OP, p...   \n",
            "3  1npqy22    ng1gwds                                    Current status?   \n",
            "4  1npqy22    ng1jac6  Get this dog some help! Wtf?! It's bleeding an...   \n",
            "\n",
            "   score   created_utc  \n",
            "0     14  1.758758e+09  \n",
            "1      7  1.758758e+09  \n",
            "2      9  1.758758e+09  \n",
            "3      5  1.758758e+09  \n",
            "4      5  1.758759e+09  \n",
            "        id                                              title  score  \\\n",
            "0  1npqy22  Found dog downtown unable to locate owner, wha...     55   \n",
            "1  1nprjjp  After Tense Discussion, East Portland Councilo...      2   \n",
            "2  1npp5wr  Portland discloses gaping hole in homeless she...     42   \n",
            "3  1npo1hg  Portland mayor plans to start citing homeless ...    292   \n",
            "4  1npnt12                   Survivor 49 Premiere Watch Party      9   \n",
            "\n",
            "    created_utc                                           selftext  \\\n",
            "0  1.758755e+09  My sister was walking to a job site from her o...   \n",
            "1  1.758757e+09                                                NaN   \n",
            "2  1.758751e+09                                                NaN   \n",
            "3  1.758748e+09                                                NaN   \n",
            "4  1.758747e+09  Hey Portland! The Survivor PDX crew is back wi...   \n",
            "\n",
            "   num_comments subreddit  \n",
            "0            20  Portland  \n",
            "1             1  Portland  \n",
            "2            49  Portland  \n",
            "3           239  Portland  \n",
            "4             0  Portland  \n"
          ]
        }
      ],
      "source": [
        "comments_df = pd.read_csv('reddit_comments_async.csv')\n",
        "posts_df = pd.read_csv('reddit_posts_async.csv')\n",
        "\n",
        "# Examine comment and post dataframes\n",
        "print(comments_df.head())\n",
        "print(posts_df.head())"
      ]
    }
  ],
  "metadata": {
    "colab": {
      "provenance": []
    },
    "kernelspec": {
      "display_name": "Python 3",
      "name": "python3"
    },
    "language_info": {
      "codemirror_mode": {
        "name": "ipython",
        "version": 3
      },
      "file_extension": ".py",
      "mimetype": "text/x-python",
      "name": "python",
      "nbconvert_exporter": "python",
      "pygments_lexer": "ipython3",
      "version": "3.10.11"
    }
  },
  "nbformat": 4,
  "nbformat_minor": 0
}
