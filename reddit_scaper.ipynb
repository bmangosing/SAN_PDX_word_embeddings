{
  "cells": [
    {
      "cell_type": "code",
      "execution_count": 96,
      "metadata": {},
      "outputs": [],
      "source": [
        "import praw\n",
        "import asyncio\n",
        "import asyncpraw\n",
        "import pandas as pd\n",
        "from dotenv import load_dotenv\n",
        "import os\n"
      ]
    },
    {
      "cell_type": "code",
      "execution_count": 97,
      "metadata": {
        "id": "8MHr9yIfDS90"
      },
      "outputs": [],
      "source": [
        "#######################\n",
        "#ENVIRONMENT VARIABLES#\n",
        "#######################\n",
        "\n",
        "load_dotenv(\"config.env\")\n",
        "\n",
        "client_id = os.getenv(\"REDDIT_CLIENT_ID\")\n",
        "client_secret = os.getenv(\"REDDIT_CLIENT_SECRET\")\n",
        "user_agent = os.getenv(\"REDDIT_USER_AGENT\")"
      ]
    },
    {
      "cell_type": "code",
      "execution_count": 98,
      "metadata": {},
      "outputs": [],
      "source": [
        "###########################\n",
        "#REDDIT API AUTHENTICATION#\n",
        "###########################\n",
        "\n",
        "reddit = asyncpraw.Reddit(\n",
        "    client_id=client_id,\n",
        "    client_secret=client_secret,\n",
        "    user_agent=user_agent\n",
        ")"
      ]
    },
    {
      "cell_type": "code",
      "execution_count": 99,
      "metadata": {},
      "outputs": [],
      "source": [
        "# Parameters\n",
        "subreddits = [\"SanDiego\", \"Portland\"]\n",
        "post_limit = 500\n",
        "comments_limit = 1000"
      ]
    },
    {
      "cell_type": "code",
      "execution_count": 101,
      "metadata": {
        "colab": {
          "base_uri": "https://localhost:8080/"
        },
        "id": "TuNHnwfwCr4T",
        "outputId": "d420ea77-246c-42d4-b44f-6d301d636b51"
      },
      "outputs": [],
      "source": [
        "###########\n",
        "#FUNCTIONS#\n",
        "###########\n",
        "\n",
        "def load_existing_ids(subreddit_name):\n",
        "    posts_file = f\"{subreddit_name}_posts.csv\"\n",
        "    comments_file = f\"{subreddit_name}_comments.csv\"\n",
        "\n",
        "    if os.path.exists(posts_file) and os.path.getsize(posts_file) > 0:\n",
        "        existing_post_ids = set(pd.read_csv(posts_file)[\"id\"])\n",
        "    else:\n",
        "        existing_post_ids = set()\n",
        "\n",
        "    if os.path.exists(comments_file) and os.path.getsize(comments_file) > 0:\n",
        "        existing_comment_ids = set(pd.read_csv(comments_file)[\"comment_id\"])\n",
        "    else:\n",
        "        existing_comment_ids = set()\n",
        "\n",
        "    return existing_post_ids, existing_comment_ids\n",
        "\n",
        "async def fetch_posts(subreddit_name, existing_post_ids, limit=500):\n",
        "    print(f\"Fetching posts from r/{subreddit_name}...\")\n",
        "    subreddit = await reddit.subreddit(subreddit_name)\n",
        "    posts = []\n",
        "    counter = 0\n",
        "\n",
        "    async for post in subreddit.new(limit=None):\n",
        "        if counter >= limit:\n",
        "            break\n",
        "        if post.id in existing_post_ids:\n",
        "            continue  # Skip already saved posts\n",
        "        posts.append({\n",
        "            \"id\": post.id,\n",
        "            \"title\": post.title,\n",
        "            \"score\": post.score,\n",
        "            \"created_utc\": post.created_utc,\n",
        "            \"selftext\": post.selftext,\n",
        "            \"num_comments\": post.num_comments,\n",
        "            \"subreddit\": subreddit_name\n",
        "        })\n",
        "        existing_post_ids.add(post.id)  # Add to in-memory set immediately\n",
        "        counter += 1\n",
        "\n",
        "    print(f\"Fetched {len(posts)} new posts from r/{subreddit_name}.\")\n",
        "    return posts\n",
        "\n",
        "async def fetch_comments(post_ids, existing_comment_ids, limit=1000):\n",
        "    print(\"Fetching comments...\")\n",
        "    comments = []\n",
        "    counter = 0\n",
        "\n",
        "    for post_id in post_ids:\n",
        "        submission = await reddit.submission(id=post_id)\n",
        "        await submission.comments.replace_more(limit=0)\n",
        "        for comment in submission.comments.list():\n",
        "            if counter >= limit:\n",
        "                break\n",
        "            if comment.id in existing_comment_ids:\n",
        "                continue  # Skip already saved comments\n",
        "            comments.append({\n",
        "                \"post_id\": post_id,\n",
        "                \"comment_id\": comment.id,\n",
        "                \"body\": comment.body,\n",
        "                \"score\": comment.score,\n",
        "                \"created_utc\": comment.created_utc\n",
        "            })\n",
        "            existing_comment_ids.add(comment.id)  # Track in-memory\n",
        "            counter += 1\n",
        "\n",
        "    print(f\"Fetched {len(comments)} new comments.\")\n",
        "    return comments\n",
        "\n",
        "async def main():\n",
        "    for subreddit_name in subreddits:\n",
        "        # Load existing IDs\n",
        "        existing_post_ids, existing_comment_ids = load_existing_ids(subreddit_name)\n",
        "\n",
        "        # Fetch new posts\n",
        "        posts = await fetch_posts(subreddit_name, existing_post_ids, limit=post_limit)\n",
        "\n",
        "        # Save posts (append to CSV)\n",
        "        posts_file = f\"{subreddit_name}_posts.csv\"\n",
        "        if posts:\n",
        "            pd.DataFrame(posts).to_csv(\n",
        "                posts_file, mode=\"a\", header=not os.path.exists(posts_file), index=False\n",
        "            )\n",
        "            print(f\"Saved {len(posts)} posts to {posts_file}\")\n",
        "\n",
        "        # Fetch comments for new posts\n",
        "        post_ids = [post[\"id\"] for post in posts]\n",
        "        comments = await fetch_comments(post_ids, existing_comment_ids, limit=comments_limit)\n",
        "\n",
        "        # Save comments\n",
        "        comments_file = f\"{subreddit_name}_comments.csv\"\n",
        "        if comments:\n",
        "            pd.DataFrame(comments).to_csv(\n",
        "                comments_file, mode=\"a\", header=not os.path.exists(comments_file), index=False\n",
        "            )\n",
        "            print(f\"Saved {len(comments)} comments to {comments_file}\")"
      ]
    },
    {
      "cell_type": "code",
      "execution_count": 103,
      "metadata": {},
      "outputs": [
        {
          "name": "stdout",
          "output_type": "stream",
          "text": [
            "Fetching posts from r/SanDiego...\n",
            "Fetched 9 new posts from r/SanDiego.\n",
            "Saved 9 posts to SanDiego_posts.csv\n",
            "Fetching comments...\n",
            "Fetched 136 new comments.\n",
            "Saved 136 comments to SanDiego_comments.csv\n",
            "Fetching posts from r/Portland...\n",
            "Fetched 30 new posts from r/Portland.\n",
            "Saved 30 posts to Portland_posts.csv\n",
            "Fetching comments...\n",
            "Fetched 522 new comments.\n",
            "Saved 522 comments to Portland_comments.csv\n",
            "Finished.\n"
          ]
        }
      ],
      "source": [
        "# Run the async main loop\n",
        "await main()\n",
        "print(\"Finished.\")"
      ]
    }
  ],
  "metadata": {
    "colab": {
      "provenance": []
    },
    "kernelspec": {
      "display_name": "Python 3",
      "name": "python3"
    },
    "language_info": {
      "codemirror_mode": {
        "name": "ipython",
        "version": 3
      },
      "file_extension": ".py",
      "mimetype": "text/x-python",
      "name": "python",
      "nbconvert_exporter": "python",
      "pygments_lexer": "ipython3",
      "version": "3.10.11"
    }
  },
  "nbformat": 4,
  "nbformat_minor": 0
}
