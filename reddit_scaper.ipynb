{
  "cells": [
    {
      "cell_type": "code",
      "execution_count": 3,
      "metadata": {
        "id": "3Z80-Me9qaeb"
      },
      "outputs": [],
      "source": [
        "import praw\n",
        "import asyncio\n",
        "import asyncpraw\n",
        "import pandas as pd\n",
        "from dotenv import load_dotenv\n",
        "import os\n"
      ]
    },
    {
      "cell_type": "code",
      "execution_count": 7,
      "metadata": {
        "id": "8MHr9yIfDS90"
      },
      "outputs": [],
      "source": [
        "#######################\n",
        "#ENVIRONMENT VARIABLES#\n",
        "#######################\n",
        "\n",
        "load_dotenv(\"config.env\")\n",
        "\n",
        "client_id = os.getenv(\"REDDIT_CLIENT_ID\")\n",
        "client_secret = os.getenv(\"REDDIT_CLIENT_SECRET\")\n",
        "user_agent = os.getenv(\"REDDIT_USER_AGENT\")"
      ]
    },
    {
      "cell_type": "code",
      "execution_count": 8,
      "metadata": {
        "id": "284achclqaed",
        "outputId": "8c500a3a-8cf6-472c-9aaf-a62d993ae4c6",
        "colab": {
          "base_uri": "https://localhost:8080/",
          "height": 391
        }
      },
      "outputs": [
        {
          "output_type": "error",
          "ename": "MissingRequiredAttributeException",
          "evalue": "Required configuration setting 'client_id' missing. \nThis setting can be provided in a praw.ini file, as a keyword argument to the Reddit class constructor, or as an environment variable.",
          "traceback": [
            "\u001b[0;31m---------------------------------------------------------------------------\u001b[0m",
            "\u001b[0;31mMissingRequiredAttributeException\u001b[0m         Traceback (most recent call last)",
            "\u001b[0;32m/tmp/ipython-input-3426624198.py\u001b[0m in \u001b[0;36m<cell line: 0>\u001b[0;34m()\u001b[0m\n\u001b[1;32m      3\u001b[0m \u001b[0;31m###########################\u001b[0m\u001b[0;34m\u001b[0m\u001b[0;34m\u001b[0m\u001b[0m\n\u001b[1;32m      4\u001b[0m \u001b[0;34m\u001b[0m\u001b[0m\n\u001b[0;32m----> 5\u001b[0;31m reddit = asyncpraw.Reddit(\n\u001b[0m\u001b[1;32m      6\u001b[0m     \u001b[0mclient_id\u001b[0m\u001b[0;34m=\u001b[0m\u001b[0mclient_id\u001b[0m\u001b[0;34m,\u001b[0m\u001b[0;34m\u001b[0m\u001b[0;34m\u001b[0m\u001b[0m\n\u001b[1;32m      7\u001b[0m     \u001b[0mclient_secret\u001b[0m\u001b[0;34m=\u001b[0m\u001b[0mclient_secret\u001b[0m\u001b[0;34m,\u001b[0m\u001b[0;34m\u001b[0m\u001b[0;34m\u001b[0m\u001b[0m\n",
            "\u001b[0;32m/usr/local/lib/python3.12/dist-packages/asyncpraw/util/deprecate_args.py\u001b[0m in \u001b[0;36mwrapped\u001b[0;34m(*args, **kwargs)\u001b[0m\n\u001b[1;32m     58\u001b[0m             \u001b[0;34m@\u001b[0m\u001b[0mwraps\u001b[0m\u001b[0;34m(\u001b[0m\u001b[0mfunc\u001b[0m\u001b[0;34m)\u001b[0m\u001b[0;34m\u001b[0m\u001b[0;34m\u001b[0m\u001b[0m\n\u001b[1;32m     59\u001b[0m             \u001b[0;32mdef\u001b[0m \u001b[0mwrapped\u001b[0m\u001b[0;34m(\u001b[0m\u001b[0;34m*\u001b[0m\u001b[0margs\u001b[0m\u001b[0;34m:\u001b[0m \u001b[0mAny\u001b[0m\u001b[0;34m,\u001b[0m \u001b[0;34m**\u001b[0m\u001b[0mkwargs\u001b[0m\u001b[0;34m:\u001b[0m \u001b[0mAny\u001b[0m\u001b[0;34m)\u001b[0m\u001b[0;34m:\u001b[0m\u001b[0;34m\u001b[0m\u001b[0;34m\u001b[0m\u001b[0m\n\u001b[0;32m---> 60\u001b[0;31m                 \u001b[0;32mreturn\u001b[0m \u001b[0m_wrapper\u001b[0m\u001b[0;34m(\u001b[0m\u001b[0;34m*\u001b[0m\u001b[0margs\u001b[0m\u001b[0;34m,\u001b[0m \u001b[0;34m**\u001b[0m\u001b[0mkwargs\u001b[0m\u001b[0;34m)\u001b[0m\u001b[0;34m\u001b[0m\u001b[0;34m\u001b[0m\u001b[0m\n\u001b[0m\u001b[1;32m     61\u001b[0m \u001b[0;34m\u001b[0m\u001b[0m\n\u001b[1;32m     62\u001b[0m         \u001b[0;32mreturn\u001b[0m \u001b[0mwrapped\u001b[0m\u001b[0;34m\u001b[0m\u001b[0;34m\u001b[0m\u001b[0m\n",
            "\u001b[0;32m/usr/local/lib/python3.12/dist-packages/asyncpraw/util/deprecate_args.py\u001b[0m in \u001b[0;36m_wrapper\u001b[0;34m(*args, **kwargs)\u001b[0m\n\u001b[1;32m     46\u001b[0m                     \u001b[0mstacklevel\u001b[0m\u001b[0;34m=\u001b[0m\u001b[0;36m2\u001b[0m\u001b[0;34m,\u001b[0m\u001b[0;34m\u001b[0m\u001b[0;34m\u001b[0m\u001b[0m\n\u001b[1;32m     47\u001b[0m                 )\n\u001b[0;32m---> 48\u001b[0;31m             \u001b[0;32mreturn\u001b[0m \u001b[0mfunc\u001b[0m\u001b[0;34m(\u001b[0m\u001b[0;34m**\u001b[0m\u001b[0mdict\u001b[0m\u001b[0;34m(\u001b[0m\u001b[0mzip\u001b[0m\u001b[0;34m(\u001b[0m\u001b[0m_old_args\u001b[0m\u001b[0;34m,\u001b[0m \u001b[0margs\u001b[0m\u001b[0;34m)\u001b[0m\u001b[0;34m)\u001b[0m\u001b[0;34m,\u001b[0m \u001b[0;34m**\u001b[0m\u001b[0mkwargs\u001b[0m\u001b[0;34m)\u001b[0m\u001b[0;34m\u001b[0m\u001b[0;34m\u001b[0m\u001b[0m\n\u001b[0m\u001b[1;32m     49\u001b[0m \u001b[0;34m\u001b[0m\u001b[0m\n\u001b[1;32m     50\u001b[0m         \u001b[0;32mif\u001b[0m \u001b[0miscoroutinefunction\u001b[0m\u001b[0;34m(\u001b[0m\u001b[0mfunc\u001b[0m\u001b[0;34m)\u001b[0m\u001b[0;34m:\u001b[0m\u001b[0;34m\u001b[0m\u001b[0;34m\u001b[0m\u001b[0m\n",
            "\u001b[0;32m/usr/local/lib/python3.12/dist-packages/asyncpraw/reddit.py\u001b[0m in \u001b[0;36m__init__\u001b[0;34m(self, site_name, config_interpolation, requestor_class, requestor_kwargs, token_manager, **config_settings)\u001b[0m\n\u001b[1;32m    316\u001b[0m         \u001b[0;32mfor\u001b[0m \u001b[0mattribute\u001b[0m \u001b[0;32min\u001b[0m \u001b[0;34m(\u001b[0m\u001b[0;34m\"client_id\"\u001b[0m\u001b[0;34m,\u001b[0m \u001b[0;34m\"user_agent\"\u001b[0m\u001b[0;34m)\u001b[0m\u001b[0;34m:\u001b[0m\u001b[0;34m\u001b[0m\u001b[0;34m\u001b[0m\u001b[0m\n\u001b[1;32m    317\u001b[0m             \u001b[0;32mif\u001b[0m \u001b[0mgetattr\u001b[0m\u001b[0;34m(\u001b[0m\u001b[0mself\u001b[0m\u001b[0;34m.\u001b[0m\u001b[0mconfig\u001b[0m\u001b[0;34m,\u001b[0m \u001b[0mattribute\u001b[0m\u001b[0;34m)\u001b[0m \u001b[0;32min\u001b[0m \u001b[0;34m(\u001b[0m\u001b[0mself\u001b[0m\u001b[0;34m.\u001b[0m\u001b[0mconfig\u001b[0m\u001b[0;34m.\u001b[0m\u001b[0mCONFIG_NOT_SET\u001b[0m\u001b[0;34m,\u001b[0m \u001b[0;32mNone\u001b[0m\u001b[0;34m)\u001b[0m\u001b[0;34m:\u001b[0m\u001b[0;34m\u001b[0m\u001b[0;34m\u001b[0m\u001b[0m\n\u001b[0;32m--> 318\u001b[0;31m                 raise MissingRequiredAttributeException(\n\u001b[0m\u001b[1;32m    319\u001b[0m                     \u001b[0mrequired_message\u001b[0m\u001b[0;34m.\u001b[0m\u001b[0mformat\u001b[0m\u001b[0;34m(\u001b[0m\u001b[0mattribute\u001b[0m\u001b[0;34m)\u001b[0m\u001b[0;34m\u001b[0m\u001b[0;34m\u001b[0m\u001b[0m\n\u001b[1;32m    320\u001b[0m                 )\n",
            "\u001b[0;31mMissingRequiredAttributeException\u001b[0m: Required configuration setting 'client_id' missing. \nThis setting can be provided in a praw.ini file, as a keyword argument to the Reddit class constructor, or as an environment variable."
          ]
        }
      ],
      "source": [
        "###########################\n",
        "#REDDIT API AUTHENTICATION#\n",
        "###########################\n",
        "\n",
        "reddit = asyncpraw.Reddit(\n",
        "    client_id=client_id,\n",
        "    client_secret=client_secret,\n",
        "    user_agent=user_agent\n",
        ")"
      ]
    },
    {
      "cell_type": "code",
      "execution_count": null,
      "metadata": {
        "id": "TKlOdZryqaed"
      },
      "outputs": [],
      "source": [
        "# Parameters\n",
        "subreddits = [\"SanDiego\", \"Portland\"]\n",
        "post_limit = 500\n",
        "comments_limit = 1000"
      ]
    },
    {
      "cell_type": "code",
      "execution_count": null,
      "metadata": {
        "id": "TuNHnwfwCr4T"
      },
      "outputs": [],
      "source": [
        "###########\n",
        "#FUNCTIONS#\n",
        "###########\n",
        "\n",
        "def load_existing_ids(subreddit_name):\n",
        "    posts_file = f\"{subreddit_name}_posts.csv\"\n",
        "    comments_file = f\"{subreddit_name}_comments.csv\"\n",
        "\n",
        "    if os.path.exists(posts_file) and os.path.getsize(posts_file) > 0:\n",
        "        existing_post_ids = set(pd.read_csv(posts_file)[\"id\"])\n",
        "    else:\n",
        "        existing_post_ids = set()\n",
        "\n",
        "    if os.path.exists(comments_file) and os.path.getsize(comments_file) > 0:\n",
        "        existing_comment_ids = set(pd.read_csv(comments_file)[\"comment_id\"])\n",
        "    else:\n",
        "        existing_comment_ids = set()\n",
        "\n",
        "    return existing_post_ids, existing_comment_ids\n",
        "\n",
        "async def fetch_posts(subreddit_name, existing_post_ids, limit=500):\n",
        "    print(f\"Fetching posts from r/{subreddit_name}...\")\n",
        "    subreddit = await reddit.subreddit(subreddit_name)\n",
        "    posts = []\n",
        "    counter = 0\n",
        "\n",
        "    async for post in subreddit.new(limit=None):\n",
        "        if counter >= limit:\n",
        "            break\n",
        "        if post.id in existing_post_ids:\n",
        "            continue  # Skip already saved posts\n",
        "        posts.append({\n",
        "            \"id\": post.id,\n",
        "            \"title\": post.title,\n",
        "            \"score\": post.score,\n",
        "            \"created_utc\": post.created_utc,\n",
        "            \"selftext\": post.selftext,\n",
        "            \"num_comments\": post.num_comments,\n",
        "            \"subreddit\": subreddit_name\n",
        "        })\n",
        "        existing_post_ids.add(post.id)  # Add to in-memory set immediately\n",
        "        counter += 1\n",
        "\n",
        "    print(f\"Fetched {len(posts)} new posts from r/{subreddit_name}.\")\n",
        "    return posts\n",
        "\n",
        "async def fetch_comments(post_ids, existing_comment_ids, limit=1000):\n",
        "    print(\"Fetching comments...\")\n",
        "    comments = []\n",
        "    counter = 0\n",
        "\n",
        "    for post_id in post_ids:\n",
        "        submission = await reddit.submission(id=post_id)\n",
        "        await submission.comments.replace_more(limit=0)\n",
        "        for comment in submission.comments.list():\n",
        "            if counter >= limit:\n",
        "                break\n",
        "            if comment.id in existing_comment_ids:\n",
        "                continue  # Skip already saved comments\n",
        "            comments.append({\n",
        "                \"post_id\": post_id,\n",
        "                \"comment_id\": comment.id,\n",
        "                \"body\": comment.body,\n",
        "                \"score\": comment.score,\n",
        "                \"created_utc\": comment.created_utc\n",
        "            })\n",
        "            existing_comment_ids.add(comment.id)  # Track in-memory\n",
        "            counter += 1\n",
        "\n",
        "    print(f\"Fetched {len(comments)} new comments.\")\n",
        "    return comments\n",
        "\n",
        "async def main():\n",
        "    for subreddit_name in subreddits:\n",
        "        # Load existing IDs\n",
        "        existing_post_ids, existing_comment_ids = load_existing_ids(subreddit_name)\n",
        "\n",
        "        # Fetch new posts\n",
        "        posts = await fetch_posts(subreddit_name, existing_post_ids, limit=post_limit)\n",
        "\n",
        "        # Save posts (append to CSV)\n",
        "        posts_file = f\"{subreddit_name}_posts.csv\"\n",
        "        if posts:\n",
        "            pd.DataFrame(posts).to_csv(\n",
        "                posts_file, mode=\"a\", header=not os.path.exists(posts_file), index=False\n",
        "            )\n",
        "            print(f\"Saved {len(posts)} posts to {posts_file}\")\n",
        "\n",
        "        # Fetch comments for new posts\n",
        "        post_ids = [post[\"id\"] for post in posts]\n",
        "        comments = await fetch_comments(post_ids, existing_comment_ids, limit=comments_limit)\n",
        "\n",
        "        # Save comments\n",
        "        comments_file = f\"{subreddit_name}_comments.csv\"\n",
        "        if comments:\n",
        "            pd.DataFrame(comments).to_csv(\n",
        "                comments_file, mode=\"a\", header=not os.path.exists(comments_file), index=False\n",
        "            )\n",
        "            print(f\"Saved {len(comments)} comments to {comments_file}\")"
      ]
    },
    {
      "cell_type": "code",
      "execution_count": 103,
      "metadata": {},
      "outputs": [
        {
          "name": "stdout",
          "output_type": "stream",
          "text": [
            "Fetching posts from r/SanDiego...\n",
            "Fetched 9 new posts from r/SanDiego.\n",
            "Saved 9 posts to SanDiego_posts.csv\n",
            "Fetching comments...\n",
            "Fetched 136 new comments.\n",
            "Saved 136 comments to SanDiego_comments.csv\n",
            "Fetching posts from r/Portland...\n",
            "Fetched 30 new posts from r/Portland.\n",
            "Saved 30 posts to Portland_posts.csv\n",
            "Fetching comments...\n",
            "Fetched 522 new comments.\n",
            "Saved 522 comments to Portland_comments.csv\n",
            "Finished.\n"
          ]
        }
      ],
      "source": [
        "# Run the async main loop\n",
        "await main()\n",
        "print(\"Finished.\")"
      ]
    }
  ],
  "metadata": {
    "colab": {
      "provenance": []
    },
    "kernelspec": {
      "display_name": "Python 3",
      "name": "python3"
    },
    "language_info": {
      "codemirror_mode": {
        "name": "ipython",
        "version": 3
      },
      "file_extension": ".py",
      "mimetype": "text/x-python",
      "name": "python",
      "nbconvert_exporter": "python",
      "pygments_lexer": "ipython3",
      "version": "3.10.11"
    }
  },
  "nbformat": 4,
  "nbformat_minor": 0
}